{
 "cells": [
  {
   "cell_type": "code",
   "execution_count": 1,
   "metadata": {},
   "outputs": [],
   "source": [
    "# Install torch and torchvision using pip\n",
    "# pip install torch torchvision --index-url https://download.pytorch.org/whl/cu118"
   ]
  },
  {
   "cell_type": "markdown",
   "metadata": {},
   "source": [
    "# Import and load data"
   ]
  },
  {
   "cell_type": "code",
   "execution_count": 1,
   "metadata": {},
   "outputs": [],
   "source": [
    "from PIL import Image\n",
    "import numpy as np\n",
    "import pandas as pd\n",
    "import os\n",
    "import torch\n",
    "from torchvision.io import read_image\n",
    "from torch.utils.data import Dataset, DataLoader\n",
    "from glob import glob\n",
    "from torch import nn, optim\n",
    "from tqdm import tqdm\n",
    "import matplotlib.pyplot as plt\n",
    "from sklearn.metrics import accuracy_score"
   ]
  },
  {
   "cell_type": "code",
   "execution_count": 2,
   "metadata": {},
   "outputs": [],
   "source": [
    "# Define a function to open an image from a given path\n",
    "def open_image(image_path, numpy_format=False):\n",
    "    # Open the image using PIL library\n",
    "    image = Image.open(image_path)\n",
    "    # If numpy_format is True, convert the image to numpy array\n",
    "    return image if not numpy_format else np.array(image)"
   ]
  },
  {
   "cell_type": "code",
   "execution_count": 3,
   "metadata": {},
   "outputs": [
    {
     "data": {
      "image/jpeg": "[encoded data removed]",
      "image/png": "[encoded data removed]",
      "text/plain": [
       "<PIL.JpegImagePlugin.JpegImageFile image mode=RGB size=64x64>"
      ]
     },
     "execution_count": 3,
     "metadata": {},
     "output_type": "execute_result"
    }
   ],
   "source": [
    "open_image('/home/glab/Desktop/kaggle/train_64/train_64/imgs/000000_64.jpg',\n",
    "           numpy_format=False)"
   ]
  },
  {
   "cell_type": "markdown",
   "metadata": {},
   "source": [
    "# Labels overview"
   ]
  },
  {
   "cell_type": "code",
   "execution_count": 4,
   "metadata": {},
   "outputs": [],
   "source": [
    "# WARNING : PATH TO EDIT\n",
    "\n",
    "# Path to the images folder\n",
    "root = \"/home/glab/Desktop/kaggle/train_64/train_64/imgs/\"\n",
    "# Path to the labels file\n",
    "labels = pd.read_csv(\"/home/glab/Desktop/kaggle/train_df_challenge.csv\")\n",
    "# Path to the test images folder\n",
    "root_kaggle = \"/home/glab/Desktop/kaggle/test_64/test_64/imgs/\""
   ]
  },
  {
   "cell_type": "code",
   "execution_count": 5,
   "metadata": {},
   "outputs": [
    {
     "data": {
      "text/html": [
       "<div>\n",
       "<style scoped>\n",
       "    .dataframe tbody tr th:only-of-type {\n",
       "        vertical-align: middle;\n",
       "    }\n",
       "\n",
       "    .dataframe tbody tr th {\n",
       "        vertical-align: top;\n",
       "    }\n",
       "\n",
       "    .dataframe thead th {\n",
       "        text-align: right;\n",
       "    }\n",
       "</style>\n",
       "<table border=\"1\" class=\"dataframe\">\n",
       "  <thead>\n",
       "    <tr style=\"text-align: right;\">\n",
       "      <th></th>\n",
       "      <th>Female</th>\n",
       "      <th>Young</th>\n",
       "      <th>Attractive</th>\n",
       "      <th>Smiling</th>\n",
       "      <th>Oval_Face</th>\n",
       "      <th>Wavy_Hair</th>\n",
       "      <th>path</th>\n",
       "    </tr>\n",
       "  </thead>\n",
       "  <tbody>\n",
       "    <tr>\n",
       "      <th>0</th>\n",
       "      <td>1.0</td>\n",
       "      <td>1.0</td>\n",
       "      <td>1.0</td>\n",
       "      <td>1.0</td>\n",
       "      <td>0.0</td>\n",
       "      <td>1.0</td>\n",
       "      <td>000000_64.jpg</td>\n",
       "    </tr>\n",
       "    <tr>\n",
       "      <th>1</th>\n",
       "      <td>0.0</td>\n",
       "      <td>1.0</td>\n",
       "      <td>0.0</td>\n",
       "      <td>1.0</td>\n",
       "      <td>1.0</td>\n",
       "      <td>0.0</td>\n",
       "      <td>000001_64.jpg</td>\n",
       "    </tr>\n",
       "    <tr>\n",
       "      <th>2</th>\n",
       "      <td>1.0</td>\n",
       "      <td>0.0</td>\n",
       "      <td>1.0</td>\n",
       "      <td>1.0</td>\n",
       "      <td>0.0</td>\n",
       "      <td>0.0</td>\n",
       "      <td>000002_64.jpg</td>\n",
       "    </tr>\n",
       "    <tr>\n",
       "      <th>3</th>\n",
       "      <td>1.0</td>\n",
       "      <td>1.0</td>\n",
       "      <td>1.0</td>\n",
       "      <td>1.0</td>\n",
       "      <td>1.0</td>\n",
       "      <td>0.0</td>\n",
       "      <td>000003_64.jpg</td>\n",
       "    </tr>\n",
       "    <tr>\n",
       "      <th>4</th>\n",
       "      <td>0.0</td>\n",
       "      <td>1.0</td>\n",
       "      <td>0.0</td>\n",
       "      <td>0.0</td>\n",
       "      <td>0.0</td>\n",
       "      <td>0.0</td>\n",
       "      <td>000004_64.jpg</td>\n",
       "    </tr>\n",
       "  </tbody>\n",
       "</table>\n",
       "</div>"
      ],
      "text/plain": [
       "   Female  Young  Attractive  Smiling  Oval_Face  Wavy_Hair           path\n",
       "0     1.0    1.0         1.0      1.0        0.0        1.0  000000_64.jpg\n",
       "1     0.0    1.0         0.0      1.0        1.0        0.0  000001_64.jpg\n",
       "2     1.0    0.0         1.0      1.0        0.0        0.0  000002_64.jpg\n",
       "3     1.0    1.0         1.0      1.0        1.0        0.0  000003_64.jpg\n",
       "4     0.0    1.0         0.0      0.0        0.0        0.0  000004_64.jpg"
      ]
     },
     "execution_count": 5,
     "metadata": {},
     "output_type": "execute_result"
    }
   ],
   "source": [
    "# Add a column to the labels dataframe with the index\n",
    "labels['index'] = labels.index\n",
    "labels['path'] = labels['index'].apply(lambda index: f'{index:06}_64.jpg')\n",
    "del labels['index']\n",
    "labels.head()"
   ]
  },
  {
   "cell_type": "code",
   "execution_count": 6,
   "metadata": {},
   "outputs": [
    {
     "data": {
      "text/plain": [
       "'000000_64.jpg'"
      ]
     },
     "execution_count": 6,
     "metadata": {},
     "output_type": "execute_result"
    }
   ],
   "source": [
    "# Check the first path\n",
    "labels[\"path\"].iloc[0]"
   ]
  },
  {
   "cell_type": "code",
   "execution_count": 7,
   "metadata": {},
   "outputs": [
    {
     "data": {
      "image/jpeg": "[encoded data removed]",
      "image/png": "[encoded data removed]",
      "text/plain": [
       "<PIL.JpegImagePlugin.JpegImageFile image mode=RGB size=64x64>"
      ]
     },
     "execution_count": 7,
     "metadata": {},
     "output_type": "execute_result"
    }
   ],
   "source": [
    "open_image(root + labels[\"path\"].iloc[0], numpy_format=False)"
   ]
  },
  {
   "cell_type": "code",
   "execution_count": 8,
   "metadata": {},
   "outputs": [
    {
     "data": {
      "text/plain": [
       "array([1., 1., 1., 1., 0.])"
      ]
     },
     "execution_count": 8,
     "metadata": {},
     "output_type": "execute_result"
    }
   ],
   "source": [
    "labels.iloc[0, :5].to_numpy().astype(\"float\")"
   ]
  },
  {
   "cell_type": "code",
   "execution_count": 9,
   "metadata": {},
   "outputs": [],
   "source": [
    "# labels.to_csv(\"../labels.csv\", index=False)"
   ]
  },
  {
   "cell_type": "markdown",
   "metadata": {},
   "source": [
    "# Resampling Young/Attr"
   ]
  },
  {
   "cell_type": "code",
   "execution_count": 10,
   "metadata": {},
   "outputs": [],
   "source": [
    "from sklearn.model_selection import train_test_split\n",
    "\n",
    "labels_train, labels_test = train_test_split(labels, test_size=0.2)"
   ]
  },
  {
   "cell_type": "code",
   "execution_count": 11,
   "metadata": {},
   "outputs": [
    {
     "data": {
      "text/html": [
       "<div>\n",
       "<style scoped>\n",
       "    .dataframe tbody tr th:only-of-type {\n",
       "        vertical-align: middle;\n",
       "    }\n",
       "\n",
       "    .dataframe tbody tr th {\n",
       "        vertical-align: top;\n",
       "    }\n",
       "\n",
       "    .dataframe thead th {\n",
       "        text-align: right;\n",
       "    }\n",
       "</style>\n",
       "<table border=\"1\" class=\"dataframe\">\n",
       "  <thead>\n",
       "    <tr style=\"text-align: right;\">\n",
       "      <th></th>\n",
       "      <th>Female</th>\n",
       "      <th>Young</th>\n",
       "      <th>Attractive</th>\n",
       "      <th>Smiling</th>\n",
       "      <th>Oval_Face</th>\n",
       "      <th>Wavy_Hair</th>\n",
       "      <th>path</th>\n",
       "    </tr>\n",
       "  </thead>\n",
       "  <tbody>\n",
       "    <tr>\n",
       "      <th>2</th>\n",
       "      <td>1.0</td>\n",
       "      <td>0.0</td>\n",
       "      <td>1.0</td>\n",
       "      <td>1.0</td>\n",
       "      <td>0.0</td>\n",
       "      <td>0.0</td>\n",
       "      <td>000002_64.jpg</td>\n",
       "    </tr>\n",
       "    <tr>\n",
       "      <th>16</th>\n",
       "      <td>0.0</td>\n",
       "      <td>0.0</td>\n",
       "      <td>1.0</td>\n",
       "      <td>1.0</td>\n",
       "      <td>1.0</td>\n",
       "      <td>0.0</td>\n",
       "      <td>000016_64.jpg</td>\n",
       "    </tr>\n",
       "    <tr>\n",
       "      <th>26</th>\n",
       "      <td>1.0</td>\n",
       "      <td>0.0</td>\n",
       "      <td>1.0</td>\n",
       "      <td>1.0</td>\n",
       "      <td>1.0</td>\n",
       "      <td>1.0</td>\n",
       "      <td>000026_64.jpg</td>\n",
       "    </tr>\n",
       "    <tr>\n",
       "      <th>69</th>\n",
       "      <td>0.0</td>\n",
       "      <td>0.0</td>\n",
       "      <td>1.0</td>\n",
       "      <td>1.0</td>\n",
       "      <td>0.0</td>\n",
       "      <td>0.0</td>\n",
       "      <td>000069_64.jpg</td>\n",
       "    </tr>\n",
       "    <tr>\n",
       "      <th>104</th>\n",
       "      <td>1.0</td>\n",
       "      <td>0.0</td>\n",
       "      <td>1.0</td>\n",
       "      <td>1.0</td>\n",
       "      <td>0.0</td>\n",
       "      <td>1.0</td>\n",
       "      <td>000104_64.jpg</td>\n",
       "    </tr>\n",
       "    <tr>\n",
       "      <th>...</th>\n",
       "      <td>...</td>\n",
       "      <td>...</td>\n",
       "      <td>...</td>\n",
       "      <td>...</td>\n",
       "      <td>...</td>\n",
       "      <td>...</td>\n",
       "      <td>...</td>\n",
       "    </tr>\n",
       "    <tr>\n",
       "      <th>162679</th>\n",
       "      <td>0.0</td>\n",
       "      <td>0.0</td>\n",
       "      <td>1.0</td>\n",
       "      <td>1.0</td>\n",
       "      <td>0.0</td>\n",
       "      <td>0.0</td>\n",
       "      <td>162679_64.jpg</td>\n",
       "    </tr>\n",
       "    <tr>\n",
       "      <th>162684</th>\n",
       "      <td>0.0</td>\n",
       "      <td>0.0</td>\n",
       "      <td>1.0</td>\n",
       "      <td>1.0</td>\n",
       "      <td>0.0</td>\n",
       "      <td>0.0</td>\n",
       "      <td>162684_64.jpg</td>\n",
       "    </tr>\n",
       "    <tr>\n",
       "      <th>162706</th>\n",
       "      <td>1.0</td>\n",
       "      <td>0.0</td>\n",
       "      <td>1.0</td>\n",
       "      <td>1.0</td>\n",
       "      <td>1.0</td>\n",
       "      <td>0.0</td>\n",
       "      <td>162706_64.jpg</td>\n",
       "    </tr>\n",
       "    <tr>\n",
       "      <th>162752</th>\n",
       "      <td>1.0</td>\n",
       "      <td>0.0</td>\n",
       "      <td>1.0</td>\n",
       "      <td>1.0</td>\n",
       "      <td>0.0</td>\n",
       "      <td>0.0</td>\n",
       "      <td>162752_64.jpg</td>\n",
       "    </tr>\n",
       "    <tr>\n",
       "      <th>162763</th>\n",
       "      <td>0.0</td>\n",
       "      <td>0.0</td>\n",
       "      <td>1.0</td>\n",
       "      <td>0.0</td>\n",
       "      <td>0.0</td>\n",
       "      <td>0.0</td>\n",
       "      <td>162763_64.jpg</td>\n",
       "    </tr>\n",
       "  </tbody>\n",
       "</table>\n",
       "<p>5364 rows × 7 columns</p>\n",
       "</div>"
      ],
      "text/plain": [
       "        Female  Young  Attractive  Smiling  Oval_Face  Wavy_Hair  \\\n",
       "2          1.0    0.0         1.0      1.0        0.0        0.0   \n",
       "16         0.0    0.0         1.0      1.0        1.0        0.0   \n",
       "26         1.0    0.0         1.0      1.0        1.0        1.0   \n",
       "69         0.0    0.0         1.0      1.0        0.0        0.0   \n",
       "104        1.0    0.0         1.0      1.0        0.0        1.0   \n",
       "...        ...    ...         ...      ...        ...        ...   \n",
       "162679     0.0    0.0         1.0      1.0        0.0        0.0   \n",
       "162684     0.0    0.0         1.0      1.0        0.0        0.0   \n",
       "162706     1.0    0.0         1.0      1.0        1.0        0.0   \n",
       "162752     1.0    0.0         1.0      1.0        0.0        0.0   \n",
       "162763     0.0    0.0         1.0      0.0        0.0        0.0   \n",
       "\n",
       "                 path  \n",
       "2       000002_64.jpg  \n",
       "16      000016_64.jpg  \n",
       "26      000026_64.jpg  \n",
       "69      000069_64.jpg  \n",
       "104     000104_64.jpg  \n",
       "...               ...  \n",
       "162679  162679_64.jpg  \n",
       "162684  162684_64.jpg  \n",
       "162706  162706_64.jpg  \n",
       "162752  162752_64.jpg  \n",
       "162763  162763_64.jpg  \n",
       "\n",
       "[5364 rows x 7 columns]"
      ]
     },
     "execution_count": 11,
     "metadata": {},
     "output_type": "execute_result"
    }
   ],
   "source": [
    "# Query for estimate attr by gender\n",
    "labels.query(\"Young == 0.0 and Attractive == 1.0\")"
   ]
  },
  {
   "cell_type": "code",
   "execution_count": 12,
   "metadata": {},
   "outputs": [],
   "source": [
    "# Female = 0 and Attractive = 1 : 19014\n",
    "# Female = 1 and Attractive = 1 : 64589\n",
    "\n",
    "# Young = 0 and Attractive = 1 : 5364\n",
    "# Young = 1 and Attractive = 1 : 78239"
   ]
  },
  {
   "cell_type": "code",
   "execution_count": 13,
   "metadata": {},
   "outputs": [
    {
     "name": "stdout",
     "output_type": "stream",
     "text": [
      "B1: (62437, 7)\n",
      "B2: (4255, 7)\n",
      "B3: (38926, 7)\n",
      "B4: (24598, 7)\n"
     ]
    }
   ],
   "source": [
    "B1 = labels_train[(labels_train[\"Young\"] == 1) & (labels_train[\"Attractive\"] == 1)]\n",
    "B2 = labels_train[(labels_train[\"Young\"] == 0) & (labels_train[\"Attractive\"] == 1)]\n",
    "B3 = labels_train[(labels_train[\"Young\"] == 1) & (labels_train[\"Attractive\"] == 0)]\n",
    "B4 = labels_train[(labels_train[\"Young\"] == 0) & (labels_train[\"Attractive\"] == 0)]\n",
    "\n",
    "print(\"B1:\", B1.shape)\n",
    "print(\"B2:\", B2.shape)\n",
    "print(\"B3:\", B3.shape)\n",
    "print(\"B4:\", B4.shape)"
   ]
  },
  {
   "cell_type": "code",
   "execution_count": 14,
   "metadata": {},
   "outputs": [
    {
     "name": "stdout",
     "output_type": "stream",
     "text": [
      "B1: (62437, 7)\n",
      "B2: (62437, 7)\n"
     ]
    }
   ],
   "source": [
    "diff = len(B1)-len(B2)\n",
    "oversampled_B2 = B2.sample(n=diff, replace=True, random_state=42)\n",
    "B2_surech = pd.concat([B2, oversampled_B2], ignore_index=True)\n",
    "\n",
    "print(\"B1:\", B1.shape)\n",
    "print(\"B2:\", B2_surech.shape)"
   ]
  },
  {
   "cell_type": "code",
   "execution_count": 15,
   "metadata": {},
   "outputs": [
    {
     "name": "stdout",
     "output_type": "stream",
     "text": [
      "B3: (38926, 7)\n",
      "B4: (38926, 7)\n"
     ]
    }
   ],
   "source": [
    "diff = len(B3)-len(B4)\n",
    "oversampled_B4 = B4.sample(n=diff, replace=True, random_state=42)\n",
    "B4_surech = pd.concat([B4, oversampled_B4], ignore_index=True)\n",
    "\n",
    "print(\"B3:\", B3.shape)\n",
    "print(\"B4:\", B4_surech.shape)"
   ]
  },
  {
   "cell_type": "code",
   "execution_count": 16,
   "metadata": {},
   "outputs": [
    {
     "data": {
      "text/plain": [
       "path\n",
       "044530_64.jpg    29\n",
       "030385_64.jpg    28\n",
       "006440_64.jpg    28\n",
       "033828_64.jpg    28\n",
       "072062_64.jpg    28\n",
       "                 ..\n",
       "103946_64.jpg     5\n",
       "161583_64.jpg     5\n",
       "088518_64.jpg     5\n",
       "161961_64.jpg     5\n",
       "002117_64.jpg     5\n",
       "Name: count, Length: 4255, dtype: int64"
      ]
     },
     "execution_count": 16,
     "metadata": {},
     "output_type": "execute_result"
    }
   ],
   "source": [
    "B2_surech.path.value_counts()"
   ]
  },
  {
   "cell_type": "code",
   "execution_count": 17,
   "metadata": {},
   "outputs": [
    {
     "data": {
      "text/plain": [
       "(202726, 7)"
      ]
     },
     "execution_count": 17,
     "metadata": {},
     "output_type": "execute_result"
    }
   ],
   "source": [
    "dataframes = [B1, B2_surech, B3, B4_surech]\n",
    "\n",
    "labels_di = pd.concat(dataframes, ignore_index=True)\n",
    "labels_di.shape"
   ]
  },
  {
   "cell_type": "code",
   "execution_count": 18,
   "metadata": {},
   "outputs": [],
   "source": [
    "labels_di = labels_di.sample(frac=1).reset_index(drop=True)"
   ]
  },
  {
   "cell_type": "markdown",
   "metadata": {},
   "source": [
    "# Resampling Female/Attr"
   ]
  },
  {
   "cell_type": "code",
   "execution_count": 19,
   "metadata": {},
   "outputs": [
    {
     "data": {
      "text/html": [
       "<div>\n",
       "<style scoped>\n",
       "    .dataframe tbody tr th:only-of-type {\n",
       "        vertical-align: middle;\n",
       "    }\n",
       "\n",
       "    .dataframe tbody tr th {\n",
       "        vertical-align: top;\n",
       "    }\n",
       "\n",
       "    .dataframe thead th {\n",
       "        text-align: right;\n",
       "    }\n",
       "</style>\n",
       "<table border=\"1\" class=\"dataframe\">\n",
       "  <thead>\n",
       "    <tr style=\"text-align: right;\">\n",
       "      <th></th>\n",
       "      <th>Female</th>\n",
       "      <th>Young</th>\n",
       "      <th>Attractive</th>\n",
       "      <th>Smiling</th>\n",
       "      <th>Oval_Face</th>\n",
       "      <th>Wavy_Hair</th>\n",
       "      <th>path</th>\n",
       "    </tr>\n",
       "  </thead>\n",
       "  <tbody>\n",
       "    <tr>\n",
       "      <th>13</th>\n",
       "      <td>1.0</td>\n",
       "      <td>1.0</td>\n",
       "      <td>0.0</td>\n",
       "      <td>0.0</td>\n",
       "      <td>0.0</td>\n",
       "      <td>0.0</td>\n",
       "      <td>000013_64.jpg</td>\n",
       "    </tr>\n",
       "    <tr>\n",
       "      <th>18</th>\n",
       "      <td>1.0</td>\n",
       "      <td>0.0</td>\n",
       "      <td>0.0</td>\n",
       "      <td>0.0</td>\n",
       "      <td>0.0</td>\n",
       "      <td>1.0</td>\n",
       "      <td>000018_64.jpg</td>\n",
       "    </tr>\n",
       "    <tr>\n",
       "      <th>19</th>\n",
       "      <td>1.0</td>\n",
       "      <td>1.0</td>\n",
       "      <td>0.0</td>\n",
       "      <td>1.0</td>\n",
       "      <td>0.0</td>\n",
       "      <td>0.0</td>\n",
       "      <td>000019_64.jpg</td>\n",
       "    </tr>\n",
       "    <tr>\n",
       "      <th>23</th>\n",
       "      <td>1.0</td>\n",
       "      <td>1.0</td>\n",
       "      <td>0.0</td>\n",
       "      <td>0.0</td>\n",
       "      <td>0.0</td>\n",
       "      <td>0.0</td>\n",
       "      <td>000023_64.jpg</td>\n",
       "    </tr>\n",
       "    <tr>\n",
       "      <th>28</th>\n",
       "      <td>1.0</td>\n",
       "      <td>1.0</td>\n",
       "      <td>0.0</td>\n",
       "      <td>0.0</td>\n",
       "      <td>0.0</td>\n",
       "      <td>0.0</td>\n",
       "      <td>000028_64.jpg</td>\n",
       "    </tr>\n",
       "    <tr>\n",
       "      <th>...</th>\n",
       "      <td>...</td>\n",
       "      <td>...</td>\n",
       "      <td>...</td>\n",
       "      <td>...</td>\n",
       "      <td>...</td>\n",
       "      <td>...</td>\n",
       "      <td>...</td>\n",
       "    </tr>\n",
       "    <tr>\n",
       "      <th>162753</th>\n",
       "      <td>1.0</td>\n",
       "      <td>1.0</td>\n",
       "      <td>0.0</td>\n",
       "      <td>0.0</td>\n",
       "      <td>0.0</td>\n",
       "      <td>0.0</td>\n",
       "      <td>162753_64.jpg</td>\n",
       "    </tr>\n",
       "    <tr>\n",
       "      <th>162756</th>\n",
       "      <td>1.0</td>\n",
       "      <td>1.0</td>\n",
       "      <td>0.0</td>\n",
       "      <td>0.0</td>\n",
       "      <td>0.0</td>\n",
       "      <td>0.0</td>\n",
       "      <td>162756_64.jpg</td>\n",
       "    </tr>\n",
       "    <tr>\n",
       "      <th>162757</th>\n",
       "      <td>1.0</td>\n",
       "      <td>0.0</td>\n",
       "      <td>0.0</td>\n",
       "      <td>0.0</td>\n",
       "      <td>0.0</td>\n",
       "      <td>1.0</td>\n",
       "      <td>162757_64.jpg</td>\n",
       "    </tr>\n",
       "    <tr>\n",
       "      <th>162758</th>\n",
       "      <td>1.0</td>\n",
       "      <td>0.0</td>\n",
       "      <td>0.0</td>\n",
       "      <td>1.0</td>\n",
       "      <td>0.0</td>\n",
       "      <td>1.0</td>\n",
       "      <td>162758_64.jpg</td>\n",
       "    </tr>\n",
       "    <tr>\n",
       "      <th>162761</th>\n",
       "      <td>1.0</td>\n",
       "      <td>1.0</td>\n",
       "      <td>0.0</td>\n",
       "      <td>0.0</td>\n",
       "      <td>0.0</td>\n",
       "      <td>0.0</td>\n",
       "      <td>162761_64.jpg</td>\n",
       "    </tr>\n",
       "  </tbody>\n",
       "</table>\n",
       "<p>29920 rows × 7 columns</p>\n",
       "</div>"
      ],
      "text/plain": [
       "        Female  Young  Attractive  Smiling  Oval_Face  Wavy_Hair  \\\n",
       "13         1.0    1.0         0.0      0.0        0.0        0.0   \n",
       "18         1.0    0.0         0.0      0.0        0.0        1.0   \n",
       "19         1.0    1.0         0.0      1.0        0.0        0.0   \n",
       "23         1.0    1.0         0.0      0.0        0.0        0.0   \n",
       "28         1.0    1.0         0.0      0.0        0.0        0.0   \n",
       "...        ...    ...         ...      ...        ...        ...   \n",
       "162753     1.0    1.0         0.0      0.0        0.0        0.0   \n",
       "162756     1.0    1.0         0.0      0.0        0.0        0.0   \n",
       "162757     1.0    0.0         0.0      0.0        0.0        1.0   \n",
       "162758     1.0    0.0         0.0      1.0        0.0        1.0   \n",
       "162761     1.0    1.0         0.0      0.0        0.0        0.0   \n",
       "\n",
       "                 path  \n",
       "13      000013_64.jpg  \n",
       "18      000018_64.jpg  \n",
       "19      000019_64.jpg  \n",
       "23      000023_64.jpg  \n",
       "28      000028_64.jpg  \n",
       "...               ...  \n",
       "162753  162753_64.jpg  \n",
       "162756  162756_64.jpg  \n",
       "162757  162757_64.jpg  \n",
       "162758  162758_64.jpg  \n",
       "162761  162761_64.jpg  \n",
       "\n",
       "[29920 rows x 7 columns]"
      ]
     },
     "execution_count": 19,
     "metadata": {},
     "output_type": "execute_result"
    }
   ],
   "source": [
    "# Query for estimate attr by gender\n",
    "labels.query(\"Female == 1.0 and Attractive == 0.0\")"
   ]
  },
  {
   "cell_type": "code",
   "execution_count": 20,
   "metadata": {},
   "outputs": [],
   "source": [
    "# Female = 1 and Attractive = 1 : 64589\n",
    "# Female = 0 and Attractive = 1 : 19014\n",
    "# x3.397"
   ]
  },
  {
   "cell_type": "code",
   "execution_count": 21,
   "metadata": {},
   "outputs": [
    {
     "data": {
      "text/html": [
       "<div>\n",
       "<style scoped>\n",
       "    .dataframe tbody tr th:only-of-type {\n",
       "        vertical-align: middle;\n",
       "    }\n",
       "\n",
       "    .dataframe tbody tr th {\n",
       "        vertical-align: top;\n",
       "    }\n",
       "\n",
       "    .dataframe thead th {\n",
       "        text-align: right;\n",
       "    }\n",
       "</style>\n",
       "<table border=\"1\" class=\"dataframe\">\n",
       "  <thead>\n",
       "    <tr style=\"text-align: right;\">\n",
       "      <th></th>\n",
       "      <th>Female</th>\n",
       "      <th>Young</th>\n",
       "      <th>Attractive</th>\n",
       "      <th>Smiling</th>\n",
       "      <th>Oval_Face</th>\n",
       "      <th>Wavy_Hair</th>\n",
       "      <th>path</th>\n",
       "    </tr>\n",
       "  </thead>\n",
       "  <tbody>\n",
       "    <tr>\n",
       "      <th>0</th>\n",
       "      <td>1.0</td>\n",
       "      <td>0.0</td>\n",
       "      <td>0.0</td>\n",
       "      <td>1.0</td>\n",
       "      <td>0.0</td>\n",
       "      <td>0.0</td>\n",
       "      <td>151255_64.jpg</td>\n",
       "    </tr>\n",
       "    <tr>\n",
       "      <th>3</th>\n",
       "      <td>1.0</td>\n",
       "      <td>0.0</td>\n",
       "      <td>0.0</td>\n",
       "      <td>1.0</td>\n",
       "      <td>0.0</td>\n",
       "      <td>1.0</td>\n",
       "      <td>127003_64.jpg</td>\n",
       "    </tr>\n",
       "    <tr>\n",
       "      <th>7</th>\n",
       "      <td>1.0</td>\n",
       "      <td>1.0</td>\n",
       "      <td>0.0</td>\n",
       "      <td>0.0</td>\n",
       "      <td>1.0</td>\n",
       "      <td>0.0</td>\n",
       "      <td>067045_64.jpg</td>\n",
       "    </tr>\n",
       "    <tr>\n",
       "      <th>11</th>\n",
       "      <td>1.0</td>\n",
       "      <td>0.0</td>\n",
       "      <td>0.0</td>\n",
       "      <td>1.0</td>\n",
       "      <td>1.0</td>\n",
       "      <td>1.0</td>\n",
       "      <td>107007_64.jpg</td>\n",
       "    </tr>\n",
       "    <tr>\n",
       "      <th>21</th>\n",
       "      <td>1.0</td>\n",
       "      <td>1.0</td>\n",
       "      <td>0.0</td>\n",
       "      <td>0.0</td>\n",
       "      <td>0.0</td>\n",
       "      <td>0.0</td>\n",
       "      <td>108829_64.jpg</td>\n",
       "    </tr>\n",
       "    <tr>\n",
       "      <th>...</th>\n",
       "      <td>...</td>\n",
       "      <td>...</td>\n",
       "      <td>...</td>\n",
       "      <td>...</td>\n",
       "      <td>...</td>\n",
       "      <td>...</td>\n",
       "      <td>...</td>\n",
       "    </tr>\n",
       "    <tr>\n",
       "      <th>202670</th>\n",
       "      <td>1.0</td>\n",
       "      <td>0.0</td>\n",
       "      <td>0.0</td>\n",
       "      <td>0.0</td>\n",
       "      <td>0.0</td>\n",
       "      <td>1.0</td>\n",
       "      <td>110775_64.jpg</td>\n",
       "    </tr>\n",
       "    <tr>\n",
       "      <th>202684</th>\n",
       "      <td>1.0</td>\n",
       "      <td>0.0</td>\n",
       "      <td>0.0</td>\n",
       "      <td>0.0</td>\n",
       "      <td>1.0</td>\n",
       "      <td>1.0</td>\n",
       "      <td>149154_64.jpg</td>\n",
       "    </tr>\n",
       "    <tr>\n",
       "      <th>202685</th>\n",
       "      <td>1.0</td>\n",
       "      <td>1.0</td>\n",
       "      <td>0.0</td>\n",
       "      <td>0.0</td>\n",
       "      <td>0.0</td>\n",
       "      <td>0.0</td>\n",
       "      <td>053129_64.jpg</td>\n",
       "    </tr>\n",
       "    <tr>\n",
       "      <th>202699</th>\n",
       "      <td>1.0</td>\n",
       "      <td>1.0</td>\n",
       "      <td>0.0</td>\n",
       "      <td>1.0</td>\n",
       "      <td>0.0</td>\n",
       "      <td>1.0</td>\n",
       "      <td>026284_64.jpg</td>\n",
       "    </tr>\n",
       "    <tr>\n",
       "      <th>202706</th>\n",
       "      <td>1.0</td>\n",
       "      <td>0.0</td>\n",
       "      <td>0.0</td>\n",
       "      <td>1.0</td>\n",
       "      <td>0.0</td>\n",
       "      <td>1.0</td>\n",
       "      <td>126161_64.jpg</td>\n",
       "    </tr>\n",
       "  </tbody>\n",
       "</table>\n",
       "<p>27488 rows × 7 columns</p>\n",
       "</div>"
      ],
      "text/plain": [
       "        Female  Young  Attractive  Smiling  Oval_Face  Wavy_Hair  \\\n",
       "0          1.0    0.0         0.0      1.0        0.0        0.0   \n",
       "3          1.0    0.0         0.0      1.0        0.0        1.0   \n",
       "7          1.0    1.0         0.0      0.0        1.0        0.0   \n",
       "11         1.0    0.0         0.0      1.0        1.0        1.0   \n",
       "21         1.0    1.0         0.0      0.0        0.0        0.0   \n",
       "...        ...    ...         ...      ...        ...        ...   \n",
       "202670     1.0    0.0         0.0      0.0        0.0        1.0   \n",
       "202684     1.0    0.0         0.0      0.0        1.0        1.0   \n",
       "202685     1.0    1.0         0.0      0.0        0.0        0.0   \n",
       "202699     1.0    1.0         0.0      1.0        0.0        1.0   \n",
       "202706     1.0    0.0         0.0      1.0        0.0        1.0   \n",
       "\n",
       "                 path  \n",
       "0       151255_64.jpg  \n",
       "3       127003_64.jpg  \n",
       "7       067045_64.jpg  \n",
       "11      107007_64.jpg  \n",
       "21      108829_64.jpg  \n",
       "...               ...  \n",
       "202670  110775_64.jpg  \n",
       "202684  149154_64.jpg  \n",
       "202685  053129_64.jpg  \n",
       "202699  026284_64.jpg  \n",
       "202706  126161_64.jpg  \n",
       "\n",
       "[27488 rows x 7 columns]"
      ]
     },
     "execution_count": 21,
     "metadata": {},
     "output_type": "execute_result"
    }
   ],
   "source": [
    "# Query for estimate attr by gender\n",
    "labels_di.query(\"Female == 1.0 and Attractive == 0.0\")"
   ]
  },
  {
   "cell_type": "code",
   "execution_count": 22,
   "metadata": {},
   "outputs": [],
   "source": [
    "# Female = 1 and Attractive = 1 : 126246\n",
    "# Female = 0 and Attractive = 1 : 48163\n",
    "# x2.621"
   ]
  },
  {
   "cell_type": "code",
   "execution_count": 23,
   "metadata": {},
   "outputs": [
    {
     "name": "stdout",
     "output_type": "stream",
     "text": [
      "B1: (91091, 7)\n",
      "B2: (33783, 7)\n",
      "B3: (27488, 7)\n",
      "B4: (50364, 7)\n"
     ]
    }
   ],
   "source": [
    "B1 = labels_di[(labels_di[\"Female\"] == 1) & (labels_di[\"Attractive\"] == 1)]\n",
    "B2 = labels_di[(labels_di[\"Female\"] == 0) & (labels_di[\"Attractive\"] == 1)]\n",
    "B3 = labels_di[(labels_di[\"Female\"] == 1) & (labels_di[\"Attractive\"] == 0)]\n",
    "B4 = labels_di[(labels_di[\"Female\"] == 0) & (labels_di[\"Attractive\"] == 0)]\n",
    "\n",
    "print(\"B1:\", B1.shape)\n",
    "print(\"B2:\", B2.shape)\n",
    "print(\"B3:\", B3.shape)\n",
    "print(\"B4:\", B4.shape)"
   ]
  },
  {
   "cell_type": "code",
   "execution_count": 24,
   "metadata": {},
   "outputs": [
    {
     "name": "stdout",
     "output_type": "stream",
     "text": [
      "B1: (91091, 7)\n",
      "B2: (91091, 7)\n"
     ]
    }
   ],
   "source": [
    "diff = len(B1)-len(B2)\n",
    "oversampled_B2 = B2.sample(n=diff, replace=True, random_state=42)\n",
    "B2_surech = pd.concat([B2, oversampled_B2], ignore_index=True)\n",
    "\n",
    "print(\"B1:\", B1.shape)\n",
    "print(\"B2:\", B2_surech.shape)"
   ]
  },
  {
   "cell_type": "code",
   "execution_count": 25,
   "metadata": {},
   "outputs": [
    {
     "name": "stdout",
     "output_type": "stream",
     "text": [
      "B3: (50364, 7)\n",
      "B4: (50364, 7)\n"
     ]
    }
   ],
   "source": [
    "diff = len(B4)-len(B3)\n",
    "oversampled_B3 = B3.sample(n=diff, replace=True, random_state=42)\n",
    "B3_surech = pd.concat([B3, oversampled_B3], ignore_index=True)\n",
    "\n",
    "print(\"B3:\", B3_surech.shape)\n",
    "print(\"B4:\", B4.shape)"
   ]
  },
  {
   "cell_type": "code",
   "execution_count": 26,
   "metadata": {},
   "outputs": [
    {
     "data": {
      "text/plain": [
       "(282910, 7)"
      ]
     },
     "execution_count": 26,
     "metadata": {},
     "output_type": "execute_result"
    }
   ],
   "source": [
    "dataframes = [B1, B2_surech, B3_surech, B4]\n",
    "\n",
    "labels_di = pd.concat(dataframes, ignore_index=True)\n",
    "labels_di.shape"
   ]
  },
  {
   "cell_type": "code",
   "execution_count": 27,
   "metadata": {},
   "outputs": [],
   "source": [
    "labels_di = labels_di.sample(frac=1).reset_index(drop=True)"
   ]
  },
  {
   "cell_type": "markdown",
   "metadata": {},
   "source": [
    "# Split and DataLoader"
   ]
  },
  {
   "cell_type": "code",
   "execution_count": 10,
   "metadata": {},
   "outputs": [],
   "source": [
    "# Define a custom dataset class\n",
    "class CustomDataset(Dataset):\n",
    "    def __init__(self, labels, root):\n",
    "        self.img_labels = labels\n",
    "        self.root = root\n",
    "\n",
    "    def __len__(self):\n",
    "        return len(self.img_labels)\n",
    "\n",
    "    def __getitem__(self, index):\n",
    "        img_path = self.root + self.img_labels['path'].iloc[index]\n",
    "        image = open_image(img_path, numpy_format=True)\n",
    "        label = self.img_labels.iloc[index, :6].to_numpy().astype('float')\n",
    "        # Convert image and label to torch tensors\n",
    "        image = torch.from_numpy(image)\n",
    "        label = torch.from_numpy(label).float()\n",
    "        # Pytorch works with C x H x W format\n",
    "        image = image.permute(2, 0, 1)\n",
    "        # Normalize the image\n",
    "        image = image/255\n",
    "\n",
    "        return image, label"
   ]
  },
  {
   "cell_type": "code",
   "execution_count": 11,
   "metadata": {},
   "outputs": [],
   "source": [
    "# Define the dataset\n",
    "dataset = CustomDataset(labels, root)\n",
    "\n",
    "# Split the dataset into train and test\n",
    "generator = torch.Generator().manual_seed(42)\n",
    "train_size = int(0.8 * len(dataset))\n",
    "test_size = len(dataset) - train_size\n",
    "train_dataset, test_dataset = torch.utils.data.random_split(\n",
    "    dataset, [train_size, test_size], generator=generator)"
   ]
  },
  {
   "cell_type": "code",
   "execution_count": 12,
   "metadata": {},
   "outputs": [],
   "source": [
    "# Define the dataloader for train and test datasets\n",
    "batch_size = 512\n",
    "train_dataloader = DataLoader(\n",
    "    train_dataset, batch_size=batch_size, shuffle=True)\n",
    "test_dataloader = DataLoader(\n",
    "    test_dataset, batch_size=batch_size, shuffle=False)"
   ]
  },
  {
   "cell_type": "markdown",
   "metadata": {},
   "source": [
    "# DataLoader for DI correction"
   ]
  },
  {
   "cell_type": "code",
   "execution_count": 31,
   "metadata": {},
   "outputs": [],
   "source": [
    "# Define the dataset\n",
    "dataset_di = CustomDataset(labels_di, root)\n",
    "dataset_test = CustomDataset(labels_test, root)\n",
    "\n",
    "# Split the dataset into train and test\n",
    "# generator = torch.Generator().manual_seed(42)\n",
    "# train_size_di = int(0.8 * len(dataset_di))\n",
    "# test_size_di = len(dataset_di) - train_size_di\n",
    "# train_dataset_di, test_dataset_di = torch.utils.data.random_split(\n",
    "#     dataset_di, [train_size_di, test_size_di], generator=generator)"
   ]
  },
  {
   "cell_type": "code",
   "execution_count": 32,
   "metadata": {},
   "outputs": [],
   "source": [
    "# # Define the dataloader for train and test datasets\n",
    "# batch_size = 512\n",
    "# train_dataloader_di = DataLoader(\n",
    "#     train_dataset_di, batch_size=batch_size, shuffle=True)\n",
    "# test_dataloader_di = DataLoader(\n",
    "#     test_dataset_di, batch_size=batch_size, shuffle=False)"
   ]
  },
  {
   "cell_type": "code",
   "execution_count": 33,
   "metadata": {},
   "outputs": [],
   "source": [
    "# Define the dataloader for train and test datasets\n",
    "batch_size = 512\n",
    "train_dataloader_di = DataLoader(\n",
    "    dataset_di, batch_size=batch_size, shuffle=True)\n",
    "test_dataloader_di = DataLoader(\n",
    "    dataset_test, batch_size=batch_size, shuffle=False)"
   ]
  },
  {
   "cell_type": "markdown",
   "metadata": {},
   "source": [
    "# Metric and score function"
   ]
  },
  {
   "cell_type": "code",
   "execution_count": 13,
   "metadata": {},
   "outputs": [],
   "source": [
    "def accuracy(y_pred, y_true):\n",
    "    y_pred = (y_pred > 0.5).float()\n",
    "    return (y_pred == y_true).float().mean() * 100"
   ]
  },
  {
   "cell_type": "code",
   "execution_count": 14,
   "metadata": {},
   "outputs": [],
   "source": [
    "def disparate_impact_fem(prediction, labels):\n",
    "    numerator = (prediction[:, 2] == 1) & (labels[:, 0] == 1)\n",
    "    denominator = (prediction[:, 2] == 1) & (labels[:, 0] == 0)\n",
    "    return numerator.sum() / (denominator.sum() + 1e-8)"
   ]
  },
  {
   "cell_type": "code",
   "execution_count": 15,
   "metadata": {},
   "outputs": [],
   "source": [
    "def disparate_impact_youn(prediction, labels):\n",
    "    numerator = (prediction[:, 2] == 1) & (labels[:, 1] == 1)\n",
    "    denominator = (prediction[:, 2] == 1) & (labels[:, 1] == 0)\n",
    "    return numerator.sum() / (denominator.sum() + 1e-8)"
   ]
  },
  {
   "cell_type": "code",
   "execution_count": 16,
   "metadata": {},
   "outputs": [],
   "source": [
    "def custom_score(prediction, labels):\n",
    "\n",
    "    accuracy_attr = accuracy(prediction[:, 2], labels[:, 2])\n",
    "\n",
    "    DI_attr_fem = disparate_impact_fem(prediction, labels)\n",
    "    DI_attr_youn = disparate_impact_youn(prediction, labels)\n",
    "\n",
    "    accuracy_fem = accuracy(prediction[:, 0], labels[:, 0])\n",
    "    accuracy_youn = accuracy(prediction[:, 1], labels[:, 1])\n",
    "    accuracy_smil = accuracy(prediction[:, 3], labels[:, 3])\n",
    "    accuracy_oval = accuracy(prediction[:, 4], labels[:, 4])\n",
    "    accuracy_wavy = accuracy(prediction[:, 5], labels[:, 5])\n",
    "    accuracy_label = (accuracy_fem + accuracy_youn + accuracy_smil + accuracy_oval + accuracy_wavy) / 5\n",
    "\n",
    "    return 0.3 * (accuracy_attr-5*(DI_attr_youn-1)-2*(DI_attr_fem-1)) + 0.5 * accuracy_label"
   ]
  },
  {
   "cell_type": "markdown",
   "metadata": {},
   "source": [
    "# Models"
   ]
  },
  {
   "cell_type": "code",
   "execution_count": 17,
   "metadata": {},
   "outputs": [],
   "source": [
    "class CNN(nn.Module):\n",
    "    def __init__(self):\n",
    "        super().__init__()\n",
    "        self.flatten = nn.Flatten()\n",
    "        self.conv_bn_relu_stack = nn.Sequential(\n",
    "            nn.Conv2d(3, 32, 3),\n",
    "            nn.BatchNorm2d(32),\n",
    "            nn.ReLU(),\n",
    "            nn.MaxPool2d(2, 2),\n",
    "            nn.Conv2d(32, 64, 3),\n",
    "            nn.BatchNorm2d(64),\n",
    "            nn.ReLU(),\n",
    "            nn.MaxPool2d(2, 2),\n",
    "            nn.Conv2d(64, 128, 3),\n",
    "            nn.BatchNorm2d(128),\n",
    "            nn.ReLU(),\n",
    "        )\n",
    "\n",
    "        self.linear_relu_stack = nn.Sequential(\n",
    "            nn.Linear(18432, 64), nn.ReLU(), nn.Linear(64, 6)\n",
    "        )\n",
    "\n",
    "    def forward(self, x):\n",
    "        x = self.conv_bn_relu_stack(x)\n",
    "        x = self.flatten(x)\n",
    "        x = self.linear_relu_stack(x)\n",
    "        return x"
   ]
  },
  {
   "cell_type": "code",
   "execution_count": 35,
   "metadata": {},
   "outputs": [],
   "source": [
    "import torch.nn as nn\n",
    "import torch.nn.functional as F\n",
    "\n",
    "class Autoencoder(nn.Module):\n",
    "    def __init__(self):\n",
    "        super(Autoencoder, self).__init__()\n",
    "        ## encoder layers ##\n",
    "        self.conv1 = nn.Conv2d(3,16,3,padding=1)\n",
    "        self.conv2 = nn.Conv2d(16,4,3,padding=1)\n",
    "        self.maxPool = nn.MaxPool2d(2,2)\n",
    "        \n",
    "        ## decoder layers ##\n",
    "        ## a kernel of 2 and a stride of 2 will increase the spatial dims by 2\n",
    "        self.conv3 = nn.Conv2d(4, 16, 3, padding=1)\n",
    "        self.conv4 = nn.Conv2d(16, 1, 3, padding=1)\n",
    "        \n",
    "\n",
    "    def forward(self, x):\n",
    "        ## encode ##\n",
    "        x = self.maxPool(F.relu(self.conv1(x)))\n",
    "        x = self.maxPool(F.relu(self.conv2(x)))\n",
    "        \n",
    "        ## decode ##\n",
    "        x = F.upsample(x,scale_factor = 2,mode = \"nearest\")\n",
    "        x = (F.relu(self.conv3(x)))\n",
    "        \n",
    "        x = F.upsample(x,scale_factor = 2,mode = \"nearest\")\n",
    "        x = (F.sigmoid(self.conv4(x)))\n",
    "        \n",
    "        ## apply ReLu to all hidden layers *except for the output layer\n",
    "        ## apply a sigmoid to the output layer\n",
    "        \n",
    "                \n",
    "        return x"
   ]
  },
  {
   "cell_type": "code",
   "execution_count": 36,
   "metadata": {},
   "outputs": [
    {
     "data": {
      "text/plain": [
       "Autoencoder(\n",
       "  (conv1): Conv2d(3, 16, kernel_size=(3, 3), stride=(1, 1), padding=(1, 1))\n",
       "  (conv2): Conv2d(16, 4, kernel_size=(3, 3), stride=(1, 1), padding=(1, 1))\n",
       "  (maxPool): MaxPool2d(kernel_size=2, stride=2, padding=0, dilation=1, ceil_mode=False)\n",
       "  (conv3): Conv2d(4, 16, kernel_size=(3, 3), stride=(1, 1), padding=(1, 1))\n",
       "  (conv4): Conv2d(16, 1, kernel_size=(3, 3), stride=(1, 1), padding=(1, 1))\n",
       ")"
      ]
     },
     "execution_count": 36,
     "metadata": {},
     "output_type": "execute_result"
    }
   ],
   "source": [
    "# to debug quickly\n",
    "model = Autoencoder()\n",
    "model.to(device)"
   ]
  },
  {
   "cell_type": "markdown",
   "metadata": {},
   "source": [
    "# Iteration"
   ]
  },
  {
   "cell_type": "code",
   "execution_count": 20,
   "metadata": {},
   "outputs": [
    {
     "name": "stdout",
     "output_type": "stream",
     "text": [
      "cuda\n"
     ]
    }
   ],
   "source": [
    "# Check if GPU is available\n",
    "device = \"cuda\" if torch.cuda.is_available() else \"cpu\"\n",
    "device = torch.device(device)\n",
    "print(device)"
   ]
  },
  {
   "cell_type": "code",
   "execution_count": 21,
   "metadata": {},
   "outputs": [
    {
     "data": {
      "text/plain": [
       "Autoencoder(\n",
       "  (conv1): Conv2d(1, 16, kernel_size=(3, 3), stride=(1, 1), padding=(1, 1))\n",
       "  (conv2): Conv2d(16, 4, kernel_size=(3, 3), stride=(1, 1), padding=(1, 1))\n",
       "  (maxPool): MaxPool2d(kernel_size=2, stride=2, padding=0, dilation=1, ceil_mode=False)\n",
       "  (conv3): Conv2d(4, 16, kernel_size=(3, 3), stride=(1, 1), padding=(1, 1))\n",
       "  (conv4): Conv2d(16, 1, kernel_size=(3, 3), stride=(1, 1), padding=(1, 1))\n",
       ")"
      ]
     },
     "execution_count": 21,
     "metadata": {},
     "output_type": "execute_result"
    }
   ],
   "source": [
    "# Choose the model to use\n",
    "model = Autoencoder()\n",
    "# psh model on cuda\n",
    "model.to(device)"
   ]
  },
  {
   "cell_type": "code",
   "execution_count": 22,
   "metadata": {},
   "outputs": [],
   "source": [
    "# Optimizer\n",
    "optimizer = optim.Adam(model.parameters(), lr=0.001)\n",
    "scheduler = optim.lr_scheduler.ExponentialLR(optimizer, gamma=0.9)"
   ]
  },
  {
   "cell_type": "code",
   "execution_count": 23,
   "metadata": {},
   "outputs": [],
   "source": [
    "# Loss function\n",
    "sigmoid = nn.Sigmoid()\n",
    "bce = nn.BCELoss(reduction=\"mean\") # cnn\n",
    "mse = nn.MSELoss(reduction=\"mean\") # autoencoders"
   ]
  },
  {
   "cell_type": "code",
   "execution_count": 61,
   "metadata": {},
   "outputs": [
    {
     "name": "stderr",
     "output_type": "stream",
     "text": [
      "  0%|          | 0/255 [00:00<?, ?it/s]/home/glab/.local/lib/python3.10/site-packages/torch/nn/functional.py:3769: UserWarning: nn.functional.upsample is deprecated. Use nn.functional.interpolate instead.\n",
      "  warnings.warn(\"nn.functional.upsample is deprecated. Use nn.functional.interpolate instead.\")\n",
      "/home/glab/.local/lib/python3.10/site-packages/torch/nn/modules/loss.py:535: UserWarning: Using a target size (torch.Size([512, 3, 64, 64])) that is different to the input size (torch.Size([512, 1, 64, 64])). This will likely lead to incorrect results due to broadcasting. Please ensure they have the same size.\n",
      "  return F.mse_loss(input, target, reduction=self.reduction)\n",
      "Train 1 loss: 0.0810: 100%|█████████▉| 254/255 [00:47<00:00,  4.60it/s]/home/glab/.local/lib/python3.10/site-packages/torch/nn/modules/loss.py:535: UserWarning: Using a target size (torch.Size([168, 3, 64, 64])) that is different to the input size (torch.Size([168, 1, 64, 64])). This will likely lead to incorrect results due to broadcasting. Please ensure they have the same size.\n",
      "  return F.mse_loss(input, target, reduction=self.reduction)\n",
      "Train 1 loss: 0.0810: 100%|██████████| 255/255 [00:47<00:00,  5.32it/s]\n",
      "Test 1 loss: 0.0811:  98%|█████████▊| 63/64 [00:11<00:00,  5.65it/s]/home/glab/.local/lib/python3.10/site-packages/torch/nn/modules/loss.py:535: UserWarning: Using a target size (torch.Size([298, 3, 64, 64])) that is different to the input size (torch.Size([298, 1, 64, 64])). This will likely lead to incorrect results due to broadcasting. Please ensure they have the same size.\n",
      "  return F.mse_loss(input, target, reduction=self.reduction)\n",
      "Test 1 loss: 0.0810: 100%|██████████| 64/64 [00:11<00:00,  5.72it/s]\n"
     ]
    }
   ],
   "source": [
    "# Train the model\n",
    "epochs = 1\n",
    "# Initialization\n",
    "train_losses_dict = {}\n",
    "test_losses_dict = {}\n",
    "scores = []\n",
    "\n",
    "for epoch in range(epochs):\n",
    "    # List to store losses\n",
    "    train_losses = []\n",
    "    test_losses = []\n",
    "    for phase in ['train', 'test']:\n",
    "        dl = train_dataloader if phase == 'train' else test_dataloader\n",
    "        # Bar to display progress\n",
    "        for batch in (bar := tqdm(iter(dl))):\n",
    "            ims, gt = batch\n",
    "            # Move the images and gt to the device (like the model)\n",
    "            ims = ims.to(device)\n",
    "            gt = gt.to(device)\n",
    "\n",
    "            # output = sigmoid(model(ims))\n",
    "            output = model(ims)\n",
    "            loss = mse(output, ims)\n",
    "            # prediction = (output > 0.5).float()\n",
    "            # score = custom_score(prediction, gt)\n",
    "            # scores.append(score.item())\n",
    "\n",
    "            if phase == 'train':\n",
    "                train_losses.append(loss.item())\n",
    "                loss.backward()\n",
    "                optimizer.step()\n",
    "                optimizer.zero_grad()\n",
    "                bar.set_description(\n",
    "                    # f\"Train {epoch+1} loss: {np.mean(train_losses).item():.4f}, Train score: {score.item():.4f}\")\n",
    "                    f\"Train {epoch+1} loss: {np.mean(train_losses).item():.4f}\")\n",
    "                scheduler.step()\n",
    "            else:\n",
    "                test_losses.append(loss.item())\n",
    "                bar.set_description(\n",
    "                    # f\"Test {epoch+1} loss: {np.mean(test_losses).item():.4f}, Test score: {score.item():.4f}\")\n",
    "                    f\"Test {epoch+1} loss: {np.mean(test_losses).item():.4f}\")\n",
    "\n",
    "        if phase == 'train':\n",
    "            train_losses_dict[epoch+1] = np.mean(train_losses).item()"
   ]
  },
  {
   "cell_type": "code",
   "execution_count": 64,
   "metadata": {},
   "outputs": [
    {
     "data": {
      "text/plain": [
       "<matplotlib.image.AxesImage at 0x7fe284f73dc0>"
      ]
     },
     "execution_count": 64,
     "metadata": {},
     "output_type": "execute_result"
    },
    {
     "data": {
      "image/png": "[encoded data removed]",
      "text/plain": [
       "<Figure size 640x480 with 1 Axes>"
      ]
     },
     "metadata": {},
     "output_type": "display_data"
    }
   ],
   "source": [
    "plt.imshow(ims[0].permute(1, 2, 0).cpu().detach().numpy())"
   ]
  },
  {
   "cell_type": "code",
   "execution_count": 63,
   "metadata": {},
   "outputs": [
    {
     "data": {
      "image/png": "[encoded data removed]",
      "text/plain": [
       "<Figure size 1500x1500 with 2 Axes>"
      ]
     },
     "metadata": {},
     "output_type": "display_data"
    },
    {
     "data": {
      "image/png": "[encoded data removed]",
      "text/plain": [
       "<Figure size 1500x1500 with 2 Axes>"
      ]
     },
     "metadata": {},
     "output_type": "display_data"
    },
    {
     "data": {
      "image/png": "[encoded data removed]",
      "text/plain": [
       "<Figure size 1500x1500 with 2 Axes>"
      ]
     },
     "metadata": {},
     "output_type": "display_data"
    },
    {
     "data": {
      "image/png": "[encoded data removed]",
      "text/plain": [
       "<Figure size 1500x1500 with 2 Axes>"
      ]
     },
     "metadata": {},
     "output_type": "display_data"
    },
    {
     "data": {
      "image/png": "[encoded data removed]",
      "text/plain": [
       "<Figure size 1500x1500 with 2 Axes>"
      ]
     },
     "metadata": {},
     "output_type": "display_data"
    }
   ],
   "source": [
    "for i in range(5):\n",
    "    plt.figure(figsize=(15,15))\n",
    "    plt.subplot(1,3,1)\n",
    "    titleI = 'Image ' + str(i+1)\n",
    "    plt.title(titleI, color = 'black', fontsize = 13)\n",
    "    plt.imshow(ims[i].cpu().detach().permute(1, 2, 0))\n",
    "    plt.subplot(1,3,2)\n",
    "    titleO = 'Output ' + str(i+1)\n",
    "    plt.title(titleO, color = 'black', fontsize = 13)\n",
    "    plt.imshow(output[i].cpu().detach().permute(1, 2, 0))"
   ]
  },
  {
   "cell_type": "markdown",
   "metadata": {},
   "source": [
    "## Empty GPU cache"
   ]
  },
  {
   "cell_type": "code",
   "execution_count": 126,
   "metadata": {},
   "outputs": [],
   "source": [
    "# empty nvidia\n",
    "torch.cuda.empty_cache()"
   ]
  },
  {
   "cell_type": "markdown",
   "metadata": {},
   "source": [
    "# Save model"
   ]
  },
  {
   "cell_type": "code",
   "execution_count": null,
   "metadata": {},
   "outputs": [],
   "source": [
    "# Save the model with correct name\n",
    "name = 'cnn'\n",
    "torch.save(model.state_dict(), '../models/' + model + '.pth')"
   ]
  },
  {
   "cell_type": "markdown",
   "metadata": {},
   "source": [
    "# Graph"
   ]
  },
  {
   "cell_type": "code",
   "execution_count": null,
   "metadata": {},
   "outputs": [],
   "source": [
    "# scores rolling mean\n",
    "scores_roll = pd.Series(scores)\n",
    "scores_roll = scores_roll.rolling(10).mean()\n",
    "plt.plot(scores_roll)"
   ]
  },
  {
   "cell_type": "code",
   "execution_count": null,
   "metadata": {},
   "outputs": [],
   "source": [
    "train_losses_dict"
   ]
  },
  {
   "cell_type": "markdown",
   "metadata": {},
   "source": [
    "# Export for submission¶"
   ]
  },
  {
   "cell_type": "code",
   "execution_count": null,
   "metadata": {},
   "outputs": [],
   "source": [
    "# Define a custom dataset class\n",
    "class KaggleDataset(Dataset):\n",
    "    def __init__(self, root_kaggle):\n",
    "        self.root_kaggle = root_kaggle\n",
    "        self.files_list = sorted(glob(self.root_kaggle + \"*.jpg\"))\n",
    "\n",
    "    def __len__(self):\n",
    "        return len(self.files_list)\n",
    "\n",
    "    def __getitem__(self, index):\n",
    "        img_path = self.files_list[index]\n",
    "        image = open_image(img_path, numpy_format=True)\n",
    "        # Convert image and label to torch tensors\n",
    "        image = torch.from_numpy(image)\n",
    "        # Pytorch works with C x H x W format\n",
    "        image = image.permute(2, 0, 1)\n",
    "        # Normalize the image\n",
    "        image = image/255\n",
    "\n",
    "        return image, img_path.split(\"/\")[-1]"
   ]
  },
  {
   "cell_type": "code",
   "execution_count": null,
   "metadata": {},
   "outputs": [],
   "source": [
    "# Define the dataset\n",
    "kaggle_dataset = KaggleDataset(root_kaggle)"
   ]
  },
  {
   "cell_type": "code",
   "execution_count": null,
   "metadata": {},
   "outputs": [],
   "source": [
    "# Define the dataloader for train and test datasets\n",
    "batch_size = 256\n",
    "kaggle_dataloader = DataLoader(\n",
    "    kaggle_dataset, batch_size=batch_size, shuffle=False)"
   ]
  },
  {
   "cell_type": "code",
   "execution_count": null,
   "metadata": {},
   "outputs": [
    {
     "name": "stderr",
     "output_type": "stream",
     "text": [
      "100%|██████████| 78/78 [00:05<00:00, 14.91it/s]\n"
     ]
    }
   ],
   "source": [
    "predictions_list = []\n",
    "paths_list = []\n",
    "for batch in (bar:= tqdm(iter(kaggle_dataloader))):\n",
    "    images, paths = batch\n",
    "    # Move the images and gt to the device (like the model)\n",
    "    with torch.no_grad():\n",
    "        images = images.to(device)\n",
    "        outputs = sigmoid(model(images))\n",
    "    # Append the prediction to the a list\n",
    "    predictions = list((outputs > 0.5).detach().cpu().numpy().astype(int))\n",
    "    predictions_list.extend(predictions)\n",
    "    paths_list.extend(paths)"
   ]
  },
  {
   "cell_type": "code",
   "execution_count": null,
   "metadata": {},
   "outputs": [
    {
     "name": "stdout",
     "output_type": "stream",
     "text": [
      "              ID  Female  Young  Attractive  Smiling  Oval_Face  Wavy_Hair\n",
      "0  000000_64.jpg       0      1           1        0          0          0\n",
      "1  000001_64.jpg       0      1           1        0          1          1\n",
      "2  000002_64.jpg       1      1           1        1          1          1\n",
      "3  000003_64.jpg       1      1           1        0          1          0\n",
      "4  000004_64.jpg       0      0           0        1          1          0\n"
     ]
    }
   ],
   "source": [
    "col_names = ['ID', 'Female', 'Young', 'Attractive', 'Smiling', 'Oval_Face', 'Wavy_Hair']\n",
    "df = pd.DataFrame({'ID': paths_list})\n",
    "\n",
    "for i, col_name in enumerate(col_names[1:]):\n",
    "    df[col_name] = [p[i] for p in predictions_list]\n",
    "\n",
    "print(df.head())\n",
    "# +1 for version\n",
    "df.to_csv('../subs/submission01.csv', index=False)"
   ]
  },
  {
   "cell_type": "code",
   "execution_count": 35,
   "metadata": {},
   "outputs": [
    {
     "ename": "NameError",
     "evalue": "name 'df' is not defined",
     "output_type": "error",
     "traceback": [
      "\u001b[0;31m---------------------------------------------------------------------------\u001b[0m",
      "\u001b[0;31mNameError\u001b[0m                                 Traceback (most recent call last)",
      "\u001b[1;32m/home/glab/Desktop/kaggle/code/processing.ipynb Cell 78\u001b[0m line \u001b[0;36m2\n\u001b[1;32m      <a href='vscode-notebook-cell:/home/glab/Desktop/kaggle/code/processing.ipynb#Y133sZmlsZQ%3D%3D?line=0'>1</a>\u001b[0m \u001b[39m# 19962 is the correct value for submit\u001b[39;00m\n\u001b[0;32m----> <a href='vscode-notebook-cell:/home/glab/Desktop/kaggle/code/processing.ipynb#Y133sZmlsZQ%3D%3D?line=1'>2</a>\u001b[0m \u001b[39mlen\u001b[39m(df)\n",
      "\u001b[0;31mNameError\u001b[0m: name 'df' is not defined"
     ]
    }
   ],
   "source": [
    "# 19962 is the correct value for submit\n",
    "len(df)"
   ]
  }
 ],
 "metadata": {
  "kernelspec": {
   "display_name": "Python 3",
   "language": "python",
   "name": "python3"
  },
  "language_info": {
   "codemirror_mode": {
    "name": "ipython",
    "version": 3
   },
   "file_extension": ".py",
   "mimetype": "text/x-python",
   "name": "python",
   "nbconvert_exporter": "python",
   "pygments_lexer": "ipython3",
   "version": "3.10.12"
  }
 },
 "nbformat": 4,
 "nbformat_minor": 2
}
